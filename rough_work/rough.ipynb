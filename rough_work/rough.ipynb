{
 "cells": [
  {
   "cell_type": "code",
   "execution_count": null,
   "id": "f8629575",
   "metadata": {},
   "outputs": [
    {
     "name": "stdout",
     "output_type": "stream",
     "text": [
      "Requirement already satisfied: langgraph in /Users/rohitbohra/Documents/falcon-env/lib/python3.9/site-packages (0.4.1)\n",
      "Requirement already satisfied: langgraph-prebuilt>=0.1.8 in /Users/rohitbohra/Documents/falcon-env/lib/python3.9/site-packages (from langgraph) (0.1.8)\n",
      "Requirement already satisfied: langchain-core>=0.1 in /Users/rohitbohra/Documents/falcon-env/lib/python3.9/site-packages (from langgraph) (0.3.56)\n",
      "Requirement already satisfied: langgraph-checkpoint<3.0.0,>=2.0.10 in /Users/rohitbohra/Documents/falcon-env/lib/python3.9/site-packages (from langgraph) (2.0.25)\n",
      "Requirement already satisfied: langgraph-sdk>=0.1.42 in /Users/rohitbohra/Documents/falcon-env/lib/python3.9/site-packages (from langgraph) (0.1.66)\n",
      "Requirement already satisfied: pydantic>=2.7.4 in /Users/rohitbohra/Documents/falcon-env/lib/python3.9/site-packages (from langgraph) (2.11.4)\n",
      "Requirement already satisfied: xxhash<4.0.0,>=3.5.0 in /Users/rohitbohra/Documents/falcon-env/lib/python3.9/site-packages (from langgraph) (3.5.0)\n",
      "Requirement already satisfied: packaging<25,>=23.2 in /Users/rohitbohra/Documents/falcon-env/lib/python3.9/site-packages (from langchain-core>=0.1->langgraph) (24.2)\n",
      "Requirement already satisfied: tenacity!=8.4.0,<10.0.0,>=8.1.0 in /Users/rohitbohra/Documents/falcon-env/lib/python3.9/site-packages (from langchain-core>=0.1->langgraph) (9.1.2)\n",
      "Requirement already satisfied: langsmith<0.4,>=0.1.125 in /Users/rohitbohra/Documents/falcon-env/lib/python3.9/site-packages (from langchain-core>=0.1->langgraph) (0.3.40)\n",
      "Requirement already satisfied: jsonpatch<2.0,>=1.33 in /Users/rohitbohra/Documents/falcon-env/lib/python3.9/site-packages (from langchain-core>=0.1->langgraph) (1.33)\n",
      "Requirement already satisfied: PyYAML>=5.3 in /Users/rohitbohra/Documents/falcon-env/lib/python3.9/site-packages (from langchain-core>=0.1->langgraph) (6.0.2)\n",
      "Requirement already satisfied: typing-extensions>=4.7 in /Users/rohitbohra/Documents/falcon-env/lib/python3.9/site-packages (from langchain-core>=0.1->langgraph) (4.13.2)\n",
      "Requirement already satisfied: jsonpointer>=1.9 in /Users/rohitbohra/Documents/falcon-env/lib/python3.9/site-packages (from jsonpatch<2.0,>=1.33->langchain-core>=0.1->langgraph) (3.0.0)\n",
      "Requirement already satisfied: ormsgpack<2.0.0,>=1.8.0 in /Users/rohitbohra/Documents/falcon-env/lib/python3.9/site-packages (from langgraph-checkpoint<3.0.0,>=2.0.10->langgraph) (1.9.1)\n",
      "Requirement already satisfied: orjson>=3.10.1 in /Users/rohitbohra/Documents/falcon-env/lib/python3.9/site-packages (from langgraph-sdk>=0.1.42->langgraph) (3.10.18)\n",
      "Requirement already satisfied: httpx>=0.25.2 in /Users/rohitbohra/Documents/falcon-env/lib/python3.9/site-packages (from langgraph-sdk>=0.1.42->langgraph) (0.28.1)\n",
      "Requirement already satisfied: certifi in /Users/rohitbohra/Documents/falcon-env/lib/python3.9/site-packages (from httpx>=0.25.2->langgraph-sdk>=0.1.42->langgraph) (2025.4.26)\n",
      "Requirement already satisfied: idna in /Users/rohitbohra/Documents/falcon-env/lib/python3.9/site-packages (from httpx>=0.25.2->langgraph-sdk>=0.1.42->langgraph) (3.10)\n",
      "Requirement already satisfied: httpcore==1.* in /Users/rohitbohra/Documents/falcon-env/lib/python3.9/site-packages (from httpx>=0.25.2->langgraph-sdk>=0.1.42->langgraph) (1.0.9)\n",
      "Requirement already satisfied: anyio in /Users/rohitbohra/Documents/falcon-env/lib/python3.9/site-packages (from httpx>=0.25.2->langgraph-sdk>=0.1.42->langgraph) (4.9.0)\n",
      "Requirement already satisfied: h11>=0.16 in /Users/rohitbohra/Documents/falcon-env/lib/python3.9/site-packages (from httpcore==1.*->httpx>=0.25.2->langgraph-sdk>=0.1.42->langgraph) (0.16.0)\n",
      "Requirement already satisfied: requests<3,>=2 in /Users/rohitbohra/Documents/falcon-env/lib/python3.9/site-packages (from langsmith<0.4,>=0.1.125->langchain-core>=0.1->langgraph) (2.32.3)\n",
      "Requirement already satisfied: requests-toolbelt<2.0.0,>=1.0.0 in /Users/rohitbohra/Documents/falcon-env/lib/python3.9/site-packages (from langsmith<0.4,>=0.1.125->langchain-core>=0.1->langgraph) (1.0.0)\n",
      "Requirement already satisfied: zstandard<0.24.0,>=0.23.0 in /Users/rohitbohra/Documents/falcon-env/lib/python3.9/site-packages (from langsmith<0.4,>=0.1.125->langchain-core>=0.1->langgraph) (0.23.0)\n",
      "Requirement already satisfied: annotated-types>=0.6.0 in /Users/rohitbohra/Documents/falcon-env/lib/python3.9/site-packages (from pydantic>=2.7.4->langgraph) (0.7.0)\n",
      "Requirement already satisfied: typing-inspection>=0.4.0 in /Users/rohitbohra/Documents/falcon-env/lib/python3.9/site-packages (from pydantic>=2.7.4->langgraph) (0.4.0)\n",
      "Requirement already satisfied: pydantic-core==2.33.2 in /Users/rohitbohra/Documents/falcon-env/lib/python3.9/site-packages (from pydantic>=2.7.4->langgraph) (2.33.2)\n",
      "Requirement already satisfied: charset-normalizer<4,>=2 in /Users/rohitbohra/Documents/falcon-env/lib/python3.9/site-packages (from requests<3,>=2->langsmith<0.4,>=0.1.125->langchain-core>=0.1->langgraph) (3.4.1)\n",
      "Requirement already satisfied: urllib3<3,>=1.21.1 in /Users/rohitbohra/Documents/falcon-env/lib/python3.9/site-packages (from requests<3,>=2->langsmith<0.4,>=0.1.125->langchain-core>=0.1->langgraph) (2.4.0)\n",
      "Requirement already satisfied: sniffio>=1.1 in /Users/rohitbohra/Documents/falcon-env/lib/python3.9/site-packages (from anyio->httpx>=0.25.2->langgraph-sdk>=0.1.42->langgraph) (1.3.1)\n",
      "Requirement already satisfied: exceptiongroup>=1.0.2 in /Users/rohitbohra/Documents/falcon-env/lib/python3.9/site-packages (from anyio->httpx>=0.25.2->langgraph-sdk>=0.1.42->langgraph) (1.2.2)\n",
      "\u001b[33mWARNING: You are using pip version 21.2.4; however, version 25.1 is available.\n",
      "You should consider upgrading via the '/Users/rohitbohra/Documents/falcon-env/bin/python3 -m pip install --upgrade pip' command.\u001b[0m\n"
     ]
    }
   ],
   "source": [
    "!pip install langgraph    "
   ]
  },
  {
   "cell_type": "code",
   "execution_count": 1,
   "id": "143694e7",
   "metadata": {},
   "outputs": [],
   "source": [
    "# first function\n",
    "def function_1(input_1):\n",
    "    return input_1 + \" Hi \"\n",
    "\n",
    "\n",
    "def function_2(input_2):\n",
    "    return input_2 + \"there \""
   ]
  },
  {
   "cell_type": "code",
   "execution_count": 2,
   "id": "6d37ac33",
   "metadata": {},
   "outputs": [
    {
     "name": "stderr",
     "output_type": "stream",
     "text": [
      "/Users/rohitbohra/Documents/falcon-env/lib/python3.9/site-packages/urllib3/__init__.py:35: NotOpenSSLWarning: urllib3 v2 only supports OpenSSL 1.1.1+, currently the 'ssl' module is compiled with 'LibreSSL 2.8.3'. See: https://github.com/urllib3/urllib3/issues/3020\n",
      "  warnings.warn(\n"
     ]
    }
   ],
   "source": [
    "from langgraph.graph import Graph\n",
    "\n",
    "# define a Langchain graph\n",
    "workflow = Graph()\n",
    "\n",
    "workflow.add_node(\"node_1\", function_1)\n",
    "workflow.add_node(\"node_2\", function_2)\n",
    "\n",
    "workflow.add_edge(\"node_1\", \"node_2\")\n",
    "\n",
    "workflow.set_entry_point(\"node_1\")\n",
    "workflow.set_finish_point(\"node_2\")\n",
    "\n",
    "app = workflow.compile()"
   ]
  },
  {
   "cell_type": "code",
   "execution_count": 3,
   "id": "853c8a35",
   "metadata": {},
   "outputs": [
    {
     "data": {
      "text/plain": [
       "'Hello Hi there '"
      ]
     },
     "execution_count": 3,
     "metadata": {},
     "output_type": "execute_result"
    }
   ],
   "source": [
    "app.invoke(\"Hello\")"
   ]
  },
  {
   "cell_type": "code",
   "execution_count": 4,
   "id": "b0e08907",
   "metadata": {},
   "outputs": [
    {
     "name": "stdout",
     "output_type": "stream",
     "text": [
      "Output from node 'node_1': \n",
      "---\n",
      "Hello Hi \n",
      "\n",
      "---\n",
      "\n",
      "Output from node 'node_2': \n",
      "---\n",
      "Hello Hi there \n",
      "\n",
      "---\n",
      "\n"
     ]
    }
   ],
   "source": [
    "input = \"Hello\"\n",
    "for output in app.stream(input):\n",
    "    # stream() yields dictionaries with output keyed by node name\n",
    "    for key, value in output.items():\n",
    "        print(f\"Output from node '{key}': \")\n",
    "        print(\"---\")\n",
    "        print(value)\n",
    "        \n",
    "    print(\"\\n---\\n\")"
   ]
  },
  {
   "cell_type": "code",
   "execution_count": 5,
   "id": "f4d158a6",
   "metadata": {},
   "outputs": [
    {
     "name": "stdout",
     "output_type": "stream",
     "text": [
      "Requirement already satisfied: langchain in /Users/rohitbohra/Documents/falcon-env/lib/python3.9/site-packages (0.3.24)\n",
      "Requirement already satisfied: langchain_openai in /Users/rohitbohra/Documents/falcon-env/lib/python3.9/site-packages (0.3.15)\n",
      "Requirement already satisfied: langchain-text-splitters<1.0.0,>=0.3.8 in /Users/rohitbohra/Documents/falcon-env/lib/python3.9/site-packages (from langchain) (0.3.8)\n",
      "Requirement already satisfied: async-timeout<5.0.0,>=4.0.0 in /Users/rohitbohra/Documents/falcon-env/lib/python3.9/site-packages (from langchain) (4.0.3)\n",
      "Requirement already satisfied: SQLAlchemy<3,>=1.4 in /Users/rohitbohra/Documents/falcon-env/lib/python3.9/site-packages (from langchain) (2.0.40)\n",
      "Requirement already satisfied: PyYAML>=5.3 in /Users/rohitbohra/Documents/falcon-env/lib/python3.9/site-packages (from langchain) (6.0.2)\n",
      "Requirement already satisfied: langsmith<0.4,>=0.1.17 in /Users/rohitbohra/Documents/falcon-env/lib/python3.9/site-packages (from langchain) (0.3.40)\n",
      "Requirement already satisfied: requests<3,>=2 in /Users/rohitbohra/Documents/falcon-env/lib/python3.9/site-packages (from langchain) (2.32.3)\n",
      "Requirement already satisfied: pydantic<3.0.0,>=2.7.4 in /Users/rohitbohra/Documents/falcon-env/lib/python3.9/site-packages (from langchain) (2.11.4)\n",
      "Requirement already satisfied: langchain-core<1.0.0,>=0.3.55 in /Users/rohitbohra/Documents/falcon-env/lib/python3.9/site-packages (from langchain) (0.3.56)\n",
      "Requirement already satisfied: openai<2.0.0,>=1.68.2 in /Users/rohitbohra/Documents/falcon-env/lib/python3.9/site-packages (from langchain_openai) (1.76.2)\n",
      "Requirement already satisfied: tiktoken<1,>=0.7 in /Users/rohitbohra/Documents/falcon-env/lib/python3.9/site-packages (from langchain_openai) (0.9.0)\n",
      "Requirement already satisfied: typing-extensions>=4.7 in /Users/rohitbohra/Documents/falcon-env/lib/python3.9/site-packages (from langchain-core<1.0.0,>=0.3.55->langchain) (4.13.2)\n",
      "Requirement already satisfied: packaging<25,>=23.2 in /Users/rohitbohra/Documents/falcon-env/lib/python3.9/site-packages (from langchain-core<1.0.0,>=0.3.55->langchain) (24.2)\n",
      "Requirement already satisfied: jsonpatch<2.0,>=1.33 in /Users/rohitbohra/Documents/falcon-env/lib/python3.9/site-packages (from langchain-core<1.0.0,>=0.3.55->langchain) (1.33)\n",
      "Requirement already satisfied: tenacity!=8.4.0,<10.0.0,>=8.1.0 in /Users/rohitbohra/Documents/falcon-env/lib/python3.9/site-packages (from langchain-core<1.0.0,>=0.3.55->langchain) (9.1.2)\n",
      "Requirement already satisfied: jsonpointer>=1.9 in /Users/rohitbohra/Documents/falcon-env/lib/python3.9/site-packages (from jsonpatch<2.0,>=1.33->langchain-core<1.0.0,>=0.3.55->langchain) (3.0.0)\n",
      "Requirement already satisfied: orjson<4.0.0,>=3.9.14 in /Users/rohitbohra/Documents/falcon-env/lib/python3.9/site-packages (from langsmith<0.4,>=0.1.17->langchain) (3.10.18)\n",
      "Requirement already satisfied: requests-toolbelt<2.0.0,>=1.0.0 in /Users/rohitbohra/Documents/falcon-env/lib/python3.9/site-packages (from langsmith<0.4,>=0.1.17->langchain) (1.0.0)\n",
      "Requirement already satisfied: httpx<1,>=0.23.0 in /Users/rohitbohra/Documents/falcon-env/lib/python3.9/site-packages (from langsmith<0.4,>=0.1.17->langchain) (0.28.1)\n",
      "Requirement already satisfied: zstandard<0.24.0,>=0.23.0 in /Users/rohitbohra/Documents/falcon-env/lib/python3.9/site-packages (from langsmith<0.4,>=0.1.17->langchain) (0.23.0)\n",
      "Requirement already satisfied: anyio in /Users/rohitbohra/Documents/falcon-env/lib/python3.9/site-packages (from httpx<1,>=0.23.0->langsmith<0.4,>=0.1.17->langchain) (4.9.0)\n",
      "Requirement already satisfied: idna in /Users/rohitbohra/Documents/falcon-env/lib/python3.9/site-packages (from httpx<1,>=0.23.0->langsmith<0.4,>=0.1.17->langchain) (3.10)\n",
      "Requirement already satisfied: httpcore==1.* in /Users/rohitbohra/Documents/falcon-env/lib/python3.9/site-packages (from httpx<1,>=0.23.0->langsmith<0.4,>=0.1.17->langchain) (1.0.9)\n",
      "Requirement already satisfied: certifi in /Users/rohitbohra/Documents/falcon-env/lib/python3.9/site-packages (from httpx<1,>=0.23.0->langsmith<0.4,>=0.1.17->langchain) (2025.4.26)\n",
      "Requirement already satisfied: h11>=0.16 in /Users/rohitbohra/Documents/falcon-env/lib/python3.9/site-packages (from httpcore==1.*->httpx<1,>=0.23.0->langsmith<0.4,>=0.1.17->langchain) (0.16.0)\n",
      "Requirement already satisfied: sniffio in /Users/rohitbohra/Documents/falcon-env/lib/python3.9/site-packages (from openai<2.0.0,>=1.68.2->langchain_openai) (1.3.1)\n",
      "Requirement already satisfied: tqdm>4 in /Users/rohitbohra/Documents/falcon-env/lib/python3.9/site-packages (from openai<2.0.0,>=1.68.2->langchain_openai) (4.67.1)\n",
      "Requirement already satisfied: jiter<1,>=0.4.0 in /Users/rohitbohra/Documents/falcon-env/lib/python3.9/site-packages (from openai<2.0.0,>=1.68.2->langchain_openai) (0.9.0)\n",
      "Requirement already satisfied: distro<2,>=1.7.0 in /Users/rohitbohra/Documents/falcon-env/lib/python3.9/site-packages (from openai<2.0.0,>=1.68.2->langchain_openai) (1.9.0)\n",
      "Requirement already satisfied: exceptiongroup>=1.0.2 in /Users/rohitbohra/Documents/falcon-env/lib/python3.9/site-packages (from anyio->httpx<1,>=0.23.0->langsmith<0.4,>=0.1.17->langchain) (1.2.2)\n",
      "Requirement already satisfied: typing-inspection>=0.4.0 in /Users/rohitbohra/Documents/falcon-env/lib/python3.9/site-packages (from pydantic<3.0.0,>=2.7.4->langchain) (0.4.0)\n",
      "Requirement already satisfied: annotated-types>=0.6.0 in /Users/rohitbohra/Documents/falcon-env/lib/python3.9/site-packages (from pydantic<3.0.0,>=2.7.4->langchain) (0.7.0)\n",
      "Requirement already satisfied: pydantic-core==2.33.2 in /Users/rohitbohra/Documents/falcon-env/lib/python3.9/site-packages (from pydantic<3.0.0,>=2.7.4->langchain) (2.33.2)\n",
      "Requirement already satisfied: charset-normalizer<4,>=2 in /Users/rohitbohra/Documents/falcon-env/lib/python3.9/site-packages (from requests<3,>=2->langchain) (3.4.1)\n",
      "Requirement already satisfied: urllib3<3,>=1.21.1 in /Users/rohitbohra/Documents/falcon-env/lib/python3.9/site-packages (from requests<3,>=2->langchain) (2.4.0)\n",
      "Requirement already satisfied: regex>=2022.1.18 in /Users/rohitbohra/Documents/falcon-env/lib/python3.9/site-packages (from tiktoken<1,>=0.7->langchain_openai) (2024.11.6)\n",
      "\u001b[33mWARNING: You are using pip version 21.2.4; however, version 25.1 is available.\n",
      "You should consider upgrading via the '/Users/rohitbohra/Documents/falcon-env/bin/python3 -m pip install --upgrade pip' command.\u001b[0m\n",
      "Requirement already satisfied: python-dotenv in /Users/rohitbohra/Documents/falcon-env/lib/python3.9/site-packages (1.1.0)\n",
      "\u001b[33mWARNING: You are using pip version 21.2.4; however, version 25.1 is available.\n",
      "You should consider upgrading via the '/Users/rohitbohra/Documents/falcon-env/bin/python3 -m pip install --upgrade pip' command.\u001b[0m\n"
     ]
    }
   ],
   "source": [
    "# adding LLM\n",
    "\n",
    "!pip install langchain langchain_openai\n",
    "!pip install python-dotenv"
   ]
  },
  {
   "cell_type": "code",
   "execution_count": 7,
   "id": "238a49dc",
   "metadata": {},
   "outputs": [],
   "source": [
    "from dotenv import load_dotenv\n",
    "import os\n",
    "\n",
    "# load environment variables from .env file\n",
    "load_dotenv()\n",
    "\n",
    "# Now you can access your environment variables using os.environ\n",
    "os.environ['OPENAI_API_KEY'] =  os.environ.get(\"OPENAI_API_KEY\")"
   ]
  },
  {
   "cell_type": "code",
   "execution_count": 8,
   "id": "758dd301",
   "metadata": {},
   "outputs": [
    {
     "data": {
      "text/plain": [
       "AIMessage(content='Hello! How can I assist you today?', additional_kwargs={'refusal': None}, response_metadata={'token_usage': {'completion_tokens': 10, 'prompt_tokens': 9, 'total_tokens': 19, 'completion_tokens_details': {'accepted_prediction_tokens': 0, 'audio_tokens': 0, 'reasoning_tokens': 0, 'rejected_prediction_tokens': 0}, 'prompt_tokens_details': {'audio_tokens': 0, 'cached_tokens': 0}}, 'model_name': 'gpt-3.5-turbo-0125', 'system_fingerprint': None, 'id': 'chatcmpl-BSemteZGgItC3McZsu3FedHjMmMXA', 'finish_reason': 'stop', 'logprobs': None}, id='run-982da9a8-0acb-4aeb-867d-1909fc3d5b4d-0', usage_metadata={'input_tokens': 9, 'output_tokens': 10, 'total_tokens': 19, 'input_token_details': {'audio': 0, 'cache_read': 0}, 'output_token_details': {'audio': 0, 'reasoning': 0}})"
      ]
     },
     "execution_count": 8,
     "metadata": {},
     "output_type": "execute_result"
    }
   ],
   "source": [
    "from langchain_openai import ChatOpenAI\n",
    "\n",
    "# set the model as ChatOpenAI\n",
    "model = ChatOpenAI(temperature=0)\n",
    "\n",
    "# call the model with a user message\n",
    "model.invoke(\"Hey there\")"
   ]
  },
  {
   "cell_type": "code",
   "execution_count": 9,
   "id": "b2708d46",
   "metadata": {},
   "outputs": [
    {
     "data": {
      "text/plain": [
       "'Hello! How can I assist you today?'"
      ]
     },
     "execution_count": 9,
     "metadata": {},
     "output_type": "execute_result"
    }
   ],
   "source": [
    "model.invoke(\"Hey there\").content"
   ]
  },
  {
   "cell_type": "code",
   "execution_count": 10,
   "id": "535afec2",
   "metadata": {},
   "outputs": [],
   "source": [
    "def function_1(input_1):\n",
    "    response = model.invoke(input_1)\n",
    "    return response.content\n",
    "\n",
    "def function_2(input_2):\n",
    "    return \"Agent says: \"+input_2"
   ]
  },
  {
   "cell_type": "code",
   "execution_count": 11,
   "id": "e1e849a4",
   "metadata": {},
   "outputs": [],
   "source": [
    "# define a langchain graph\n",
    "workflow = Graph()\n",
    "\n",
    "workflow.add_node(\"Agent\", function_1)\n",
    "workflow.add_node(\"Node_2\", function_2)\n",
    "\n",
    "workflow.add_edge('Agent', 'Node_2')\n",
    "\n",
    "workflow.set_entry_point(\"Agent\")\n",
    "workflow.set_finish_point(\"Node_2\")\n",
    "\n",
    "app = workflow.compile()"
   ]
  },
  {
   "cell_type": "code",
   "execution_count": 12,
   "id": "c51ec954",
   "metadata": {},
   "outputs": [
    {
     "data": {
      "text/plain": [
       "'Agent says: Hello! How can I assist you today?'"
      ]
     },
     "execution_count": 12,
     "metadata": {},
     "output_type": "execute_result"
    }
   ],
   "source": [
    "app.invoke(\"Hey there\")"
   ]
  },
  {
   "cell_type": "code",
   "execution_count": 13,
   "id": "aa14ab2b",
   "metadata": {},
   "outputs": [
    {
     "name": "stdout",
     "output_type": "stream",
     "text": [
      "Output from node 'Agent': \n",
      "---\n",
      "Hello! How can I assist you today?\n",
      "\n",
      "---\n",
      "\n",
      "Output from node 'Node_2': \n",
      "---\n",
      "Agent says: Hello! How can I assist you today?\n",
      "\n",
      "---\n",
      "\n"
     ]
    }
   ],
   "source": [
    "input = \"Hello\"\n",
    "for output in app.stream(input):\n",
    "    # stream() yields dictionaries with output keyed by node name\n",
    "    for key, value in output.items():\n",
    "        print(f\"Output from node '{key}': \")\n",
    "        print(\"---\")\n",
    "        print(value)\n",
    "        \n",
    "    print(\"\\n---\\n\")"
   ]
  },
  {
   "cell_type": "code",
   "execution_count": null,
   "id": "87f89aee",
   "metadata": {},
   "outputs": [],
   "source": []
  },
  {
   "cell_type": "code",
   "execution_count": null,
   "id": "44393bbc",
   "metadata": {},
   "outputs": [],
   "source": []
  },
  {
   "cell_type": "code",
   "execution_count": null,
   "id": "cd7f7e6c",
   "metadata": {},
   "outputs": [],
   "source": []
  },
  {
   "cell_type": "code",
   "execution_count": null,
   "id": "4b023b7c",
   "metadata": {},
   "outputs": [],
   "source": []
  },
  {
   "cell_type": "code",
   "execution_count": 15,
   "id": "baef83c9",
   "metadata": {},
   "outputs": [],
   "source": [
    "def function_1(input_1):\n",
    "    query = \"Your task is to extract question from the text and try answering it.\\n Text: \" + input_1\n",
    "    response = model.invoke(query)\n",
    "    return response.content\n",
    "\n",
    "def function_2(input_2):\n",
    "    return \"Answer by bot : \" + input_2\n",
    "\n",
    "def function_3(input_3):\n",
    "    prompt =\"\"\"Based on the answer provided who do you think have been suffered more during and after independence of India.\n",
    "    Hindu, Muslims?. Who would have required more financial support by Indian government?\n",
    "    \\n Answer: \"\"\" + input_3\n",
    "    response = model.invoke(prompt)\n",
    "    return response\n",
    "\n",
    "\n",
    "# define a Langchain graph\n",
    "workflow = Graph()\n",
    "\n",
    "#calling node 1 as agent\n",
    "workflow.add_node(\"agent\", function_1)\n",
    "workflow.add_node(\"node_2\", function_2)\n",
    "workflow.add_node(\"node_3\", function_3)\n",
    "\n",
    "\n",
    "workflow.add_edge(\"agent\", \"node_2\")\n",
    "workflow.add_edge(\"node_2\", \"node_3\")\n",
    "\n",
    "workflow.set_entry_point(\"agent\")\n",
    "workflow.set_finish_point(\"node_3\")\n",
    "\n",
    "app = workflow.compile()"
   ]
  },
  {
   "cell_type": "code",
   "execution_count": 16,
   "id": "06bea497",
   "metadata": {},
   "outputs": [
    {
     "data": {
      "text/plain": [
       "AIMessage(content='Based on the answer provided, it can be inferred that Hindus from Pakistan may have suffered more during and after independence of India. They would likely have required more financial support from the Indian government due to the displacement and challenges they faced in moving to India.', additional_kwargs={'refusal': None}, response_metadata={'token_usage': {'completion_tokens': 51, 'prompt_tokens': 81, 'total_tokens': 132, 'completion_tokens_details': {'accepted_prediction_tokens': 0, 'audio_tokens': 0, 'reasoning_tokens': 0, 'rejected_prediction_tokens': 0}, 'prompt_tokens_details': {'audio_tokens': 0, 'cached_tokens': 0}}, 'model_name': 'gpt-3.5-turbo-0125', 'system_fingerprint': None, 'id': 'chatcmpl-BRu2mTRuHyx7mhFM7RoIWbOAhOyZj', 'finish_reason': 'stop', 'logprobs': None}, id='run-5435ff6d-e9e6-4050-8414-b00eeba0fef5-0', usage_metadata={'input_tokens': 81, 'output_tokens': 51, 'total_tokens': 132, 'input_token_details': {'audio': 0, 'cache_read': 0}, 'output_token_details': {'audio': 0, 'reasoning': 0}})"
      ]
     },
     "execution_count": 16,
     "metadata": {},
     "output_type": "execute_result"
    }
   ],
   "source": [
    "app.invoke(\"So Rohit!, Where did hindus from Pakistan move after India got Independence?\")"
   ]
  },
  {
   "cell_type": "markdown",
   "id": "044bd6db",
   "metadata": {},
   "source": []
  },
  {
   "cell_type": "code",
   "execution_count": null,
   "id": "ef8f4c89",
   "metadata": {},
   "outputs": [
    {
     "name": "stdout",
     "output_type": "stream",
     "text": [
      "\u001b[31mERROR: Could not find a version that satisfies the requirement pyown (from versions: none)\u001b[0m\u001b[31m\n",
      "\u001b[0m\u001b[31mERROR: No matching distribution found for pyown\u001b[0m\u001b[31m\n",
      "\u001b[0m"
     ]
    }
   ],
   "source": []
  },
  {
   "cell_type": "code",
   "execution_count": null,
   "id": "7757d7c6",
   "metadata": {},
   "outputs": [],
   "source": []
  },
  {
   "cell_type": "code",
   "execution_count": null,
   "id": "a0245bec",
   "metadata": {},
   "outputs": [],
   "source": []
  },
  {
   "cell_type": "code",
   "execution_count": null,
   "id": "905ae795",
   "metadata": {},
   "outputs": [],
   "source": []
  },
  {
   "cell_type": "code",
   "execution_count": null,
   "id": "31e45f1a",
   "metadata": {},
   "outputs": [],
   "source": []
  },
  {
   "cell_type": "code",
   "execution_count": null,
   "id": "910f0376",
   "metadata": {},
   "outputs": [],
   "source": []
  },
  {
   "cell_type": "code",
   "execution_count": 3,
   "id": "c7028308",
   "metadata": {},
   "outputs": [
    {
     "data": {
      "text/plain": [
       "False"
      ]
     },
     "execution_count": 3,
     "metadata": {},
     "output_type": "execute_result"
    }
   ],
   "source": [
    "from dotenv import load_dotenv\n",
    "\n",
    "load_dotenv()"
   ]
  },
  {
   "cell_type": "code",
   "execution_count": 5,
   "id": "3c6947f8",
   "metadata": {},
   "outputs": [],
   "source": [
    "from langchain_core.messages import HumanMessage\n",
    "from langgraph.graph import END, MessageGraph\n",
    "\n",
    "def add_one(input: list[HumanMessage]):\n",
    "    input[0].content = input[0].content + \"a\"\n",
    "    return input\n",
    "\n",
    "graph = MessageGraph()\n",
    "\n",
    "graph.add_node(\"branch_a\", add_one)\n",
    "graph.add_node(\"branch_b\", add_one)\n",
    "graph.add_node(\"branch_c\", add_one)\n",
    "graph.add_node(\"final_node\", add_one)\n",
    "\n",
    "graph.add_edge(\"branch_a\", \"branch_b\")\n",
    "graph.add_edge(\"branch_a\", \"branch_c\")\n",
    "graph.add_edge(\"branch_b\", \"final_node\")\n",
    "graph.add_edge(\"branch_c\", \"final_node\")\n",
    "graph.add_edge(\"final_node\", END)\n",
    "\n",
    "graph.set_entry_point(\"branch_a\")\n",
    "\n",
    "runnable = graph.compile() "
   ]
  },
  {
   "cell_type": "code",
   "execution_count": 6,
   "id": "15fd38f0",
   "metadata": {},
   "outputs": [
    {
     "data": {
      "image/png": "[encoded data removed]",
      "text/plain": [
       "<IPython.core.display.Image object>"
      ]
     },
     "metadata": {},
     "output_type": "display_data"
    }
   ],
   "source": [
    "from IPython.display import Image, display\n",
    "\n",
    "display(Image(runnable.get_graph().draw_mermaid_png()))"
   ]
  },
  {
   "cell_type": "code",
   "execution_count": 24,
   "id": "eccc7456",
   "metadata": {},
   "outputs": [
    {
     "data": {
      "text/plain": [
       "[HumanMessage(content='aaaaa', additional_kwargs={}, response_metadata={}, id='e2c90d1a-3a66-4964-8c05-7bb2932ed9d8')]"
      ]
     },
     "execution_count": 24,
     "metadata": {},
     "output_type": "execute_result"
    }
   ],
   "source": [
    "runnable.invoke(\"a\")"
   ]
  },
  {
   "cell_type": "code",
   "execution_count": 29,
   "id": "342c3467",
   "metadata": {},
   "outputs": [],
   "source": [
    "from langchain_core.messages import HumanMessage\n",
    "from langgraph.graph import END, MessageGraph\n",
    "\n",
    "def entry(input: list[HumanMessage]):\n",
    "    return input\n",
    "\n",
    "def work_with_b(input: list[HumanMessage]):\n",
    "    print(\"Using branch B\")\n",
    "    return input\n",
    "\n",
    "def work_with_c(input: list[HumanMessage]):\n",
    "    print(\"Using branch C\")\n",
    "    return input\n",
    "\n",
    "def router(input: list[HumanMessage]):\n",
    "    if \"use_b\" in input[0].content:\n",
    "        return \"branch_b_\"\n",
    "    else:\n",
    "        return \"branch_c_\"\n",
    "    \n",
    "\n",
    "graph = MessageGraph()\n",
    "\n",
    "graph.add_node(\"branch_a\", entry)\n",
    "graph.add_node(\"branch_b\", work_with_b)\n",
    "graph.add_node(\"branch_c\", work_with_c)\n",
    "\n",
    "\n",
    "graph.add_conditional_edges(\n",
    "    \"branch_a\",\n",
    "    router,\n",
    "    {\"branch_b_\": \"branch_b\", \"branch_c_\": \"branch_c\"}\n",
    ")\n",
    "\n",
    "graph.add_edge(\"branch_b\", END)\n",
    "graph.add_edge(\"branch_c\", END)\n",
    "\n",
    "graph.set_entry_point(\"branch_a\")\n",
    "\n",
    "runnable = graph.compile()\n"
   ]
  },
  {
   "cell_type": "code",
   "execution_count": 30,
   "id": "23c3e4a0",
   "metadata": {},
   "outputs": [
    {
     "data": {
      "image/png": "[encoded data removed]",
      "text/plain": [
       "<IPython.core.display.Image object>"
      ]
     },
     "metadata": {},
     "output_type": "display_data"
    }
   ],
   "source": [
    "from IPython.display import Image, display\n",
    "\n",
    "display(Image(runnable.get_graph().draw_mermaid_png()))"
   ]
  },
  {
   "cell_type": "code",
   "execution_count": 31,
   "id": "10518959",
   "metadata": {},
   "outputs": [
    {
     "name": "stdout",
     "output_type": "stream",
     "text": [
      "Using branch C\n"
     ]
    },
    {
     "data": {
      "text/plain": [
       "[HumanMessage(content='hello', additional_kwargs={}, response_metadata={}, id='b4502c99-636f-4f23-a5dd-a540e2e32540')]"
      ]
     },
     "execution_count": 31,
     "metadata": {},
     "output_type": "execute_result"
    }
   ],
   "source": [
    "runnable.invoke(\"hello\")"
   ]
  },
  {
   "cell_type": "code",
   "execution_count": 32,
   "id": "365f5ee6",
   "metadata": {},
   "outputs": [
    {
     "name": "stdout",
     "output_type": "stream",
     "text": [
      "Using branch B\n"
     ]
    },
    {
     "data": {
      "text/plain": [
       "[HumanMessage(content='Hey, Can we use_b for the solution', additional_kwargs={}, response_metadata={}, id='b56e7350-9428-410e-b3ab-552ab09c5b4e')]"
      ]
     },
     "execution_count": 32,
     "metadata": {},
     "output_type": "execute_result"
    }
   ],
   "source": [
    "runnable.invoke(\"Hey, Can we use_b for the solution\")"
   ]
  },
  {
   "cell_type": "code",
   "execution_count": 9,
   "id": "2d810d37",
   "metadata": {},
   "outputs": [
    {
     "ename": "OpenAIError",
     "evalue": "The api_key client option must be set either by passing api_key to the client or by setting the OPENAI_API_KEY environment variable",
     "output_type": "error",
     "traceback": [
      "\u001b[0;31m---------------------------------------------------------------------------\u001b[0m",
      "\u001b[0;31mOpenAIError\u001b[0m                               Traceback (most recent call last)",
      "Cell \u001b[0;32mIn[9], line 6\u001b[0m\n\u001b[1;32m      2\u001b[0m \u001b[38;5;28;01mfrom\u001b[39;00m\u001b[38;5;250m \u001b[39m\u001b[38;5;21;01mlangchain_core\u001b[39;00m\u001b[38;5;21;01m.\u001b[39;00m\u001b[38;5;21;01mmessages\u001b[39;00m\u001b[38;5;250m \u001b[39m\u001b[38;5;28;01mimport\u001b[39;00m HumanMessage\n\u001b[1;32m      3\u001b[0m \u001b[38;5;28;01mfrom\u001b[39;00m\u001b[38;5;250m \u001b[39m\u001b[38;5;21;01mlanggraph\u001b[39;00m\u001b[38;5;21;01m.\u001b[39;00m\u001b[38;5;21;01mgraph\u001b[39;00m\u001b[38;5;250m \u001b[39m\u001b[38;5;28;01mimport\u001b[39;00m END, MessageGraph\n\u001b[0;32m----> 6\u001b[0m model \u001b[38;5;241m=\u001b[39m \u001b[43mChatOpenAI\u001b[49m\u001b[43m(\u001b[49m\u001b[43mtemperature\u001b[49m\u001b[38;5;241;43m=\u001b[39;49m\u001b[38;5;241;43m0\u001b[39;49m\u001b[43m)\u001b[49m\n\u001b[1;32m      8\u001b[0m \u001b[38;5;28;01mdef\u001b[39;00m\u001b[38;5;250m \u001b[39m\u001b[38;5;21mentry\u001b[39m(\u001b[38;5;28minput\u001b[39m:\u001b[38;5;28mlist\u001b[39m[HumanMessage]):\n\u001b[1;32m      9\u001b[0m     \u001b[38;5;28;01mreturn\u001b[39;00m \u001b[38;5;28minput\u001b[39m\n",
      "File \u001b[0;32m~/Documents/falcon-env/lib/python3.9/site-packages/langchain_core/load/serializable.py:130\u001b[0m, in \u001b[0;36mSerializable.__init__\u001b[0;34m(self, *args, **kwargs)\u001b[0m\n\u001b[1;32m    128\u001b[0m \u001b[38;5;28;01mdef\u001b[39;00m\u001b[38;5;250m \u001b[39m\u001b[38;5;21m__init__\u001b[39m(\u001b[38;5;28mself\u001b[39m, \u001b[38;5;241m*\u001b[39margs: Any, \u001b[38;5;241m*\u001b[39m\u001b[38;5;241m*\u001b[39mkwargs: Any) \u001b[38;5;241m-\u001b[39m\u001b[38;5;241m>\u001b[39m \u001b[38;5;28;01mNone\u001b[39;00m:\n\u001b[1;32m    129\u001b[0m \u001b[38;5;250m    \u001b[39m\u001b[38;5;124;03m\"\"\"\"\"\"\u001b[39;00m  \u001b[38;5;66;03m# noqa: D419\u001b[39;00m\n\u001b[0;32m--> 130\u001b[0m     \u001b[38;5;28;43msuper\u001b[39;49m\u001b[43m(\u001b[49m\u001b[43m)\u001b[49m\u001b[38;5;241;43m.\u001b[39;49m\u001b[38;5;21;43m__init__\u001b[39;49m\u001b[43m(\u001b[49m\u001b[38;5;241;43m*\u001b[39;49m\u001b[43margs\u001b[49m\u001b[43m,\u001b[49m\u001b[43m \u001b[49m\u001b[38;5;241;43m*\u001b[39;49m\u001b[38;5;241;43m*\u001b[39;49m\u001b[43mkwargs\u001b[49m\u001b[43m)\u001b[49m\n",
      "    \u001b[0;31m[... skipping hidden 1 frame]\u001b[0m\n",
      "File \u001b[0;32m~/Documents/falcon-env/lib/python3.9/site-packages/langchain_openai/chat_models/base.py:623\u001b[0m, in \u001b[0;36mBaseChatOpenAI.validate_environment\u001b[0;34m(self)\u001b[0m\n\u001b[1;32m    619\u001b[0m         \u001b[38;5;28mself\u001b[39m\u001b[38;5;241m.\u001b[39mhttp_client \u001b[38;5;241m=\u001b[39m httpx\u001b[38;5;241m.\u001b[39mClient(\n\u001b[1;32m    620\u001b[0m             proxy\u001b[38;5;241m=\u001b[39m\u001b[38;5;28mself\u001b[39m\u001b[38;5;241m.\u001b[39mopenai_proxy, verify\u001b[38;5;241m=\u001b[39mglobal_ssl_context\n\u001b[1;32m    621\u001b[0m         )\n\u001b[1;32m    622\u001b[0m     sync_specific \u001b[38;5;241m=\u001b[39m {\u001b[38;5;124m\"\u001b[39m\u001b[38;5;124mhttp_client\u001b[39m\u001b[38;5;124m\"\u001b[39m: \u001b[38;5;28mself\u001b[39m\u001b[38;5;241m.\u001b[39mhttp_client}\n\u001b[0;32m--> 623\u001b[0m     \u001b[38;5;28mself\u001b[39m\u001b[38;5;241m.\u001b[39mroot_client \u001b[38;5;241m=\u001b[39m \u001b[43mopenai\u001b[49m\u001b[38;5;241;43m.\u001b[39;49m\u001b[43mOpenAI\u001b[49m\u001b[43m(\u001b[49m\u001b[38;5;241;43m*\u001b[39;49m\u001b[38;5;241;43m*\u001b[39;49m\u001b[43mclient_params\u001b[49m\u001b[43m,\u001b[49m\u001b[43m \u001b[49m\u001b[38;5;241;43m*\u001b[39;49m\u001b[38;5;241;43m*\u001b[39;49m\u001b[43msync_specific\u001b[49m\u001b[43m)\u001b[49m  \u001b[38;5;66;03m# type: ignore[arg-type]\u001b[39;00m\n\u001b[1;32m    624\u001b[0m     \u001b[38;5;28mself\u001b[39m\u001b[38;5;241m.\u001b[39mclient \u001b[38;5;241m=\u001b[39m \u001b[38;5;28mself\u001b[39m\u001b[38;5;241m.\u001b[39mroot_client\u001b[38;5;241m.\u001b[39mchat\u001b[38;5;241m.\u001b[39mcompletions\n\u001b[1;32m    625\u001b[0m \u001b[38;5;28;01mif\u001b[39;00m \u001b[38;5;129;01mnot\u001b[39;00m \u001b[38;5;28mself\u001b[39m\u001b[38;5;241m.\u001b[39masync_client:\n",
      "File \u001b[0;32m~/Documents/falcon-env/lib/python3.9/site-packages/openai/_client.py:116\u001b[0m, in \u001b[0;36mOpenAI.__init__\u001b[0;34m(self, api_key, organization, project, base_url, websocket_base_url, timeout, max_retries, default_headers, default_query, http_client, _strict_response_validation)\u001b[0m\n\u001b[1;32m    114\u001b[0m     api_key \u001b[38;5;241m=\u001b[39m os\u001b[38;5;241m.\u001b[39menviron\u001b[38;5;241m.\u001b[39mget(\u001b[38;5;124m\"\u001b[39m\u001b[38;5;124mOPENAI_API_KEY\u001b[39m\u001b[38;5;124m\"\u001b[39m)\n\u001b[1;32m    115\u001b[0m \u001b[38;5;28;01mif\u001b[39;00m api_key \u001b[38;5;129;01mis\u001b[39;00m \u001b[38;5;28;01mNone\u001b[39;00m:\n\u001b[0;32m--> 116\u001b[0m     \u001b[38;5;28;01mraise\u001b[39;00m OpenAIError(\n\u001b[1;32m    117\u001b[0m         \u001b[38;5;124m\"\u001b[39m\u001b[38;5;124mThe api_key client option must be set either by passing api_key to the client or by setting the OPENAI_API_KEY environment variable\u001b[39m\u001b[38;5;124m\"\u001b[39m\n\u001b[1;32m    118\u001b[0m     )\n\u001b[1;32m    119\u001b[0m \u001b[38;5;28mself\u001b[39m\u001b[38;5;241m.\u001b[39mapi_key \u001b[38;5;241m=\u001b[39m api_key\n\u001b[1;32m    121\u001b[0m \u001b[38;5;28;01mif\u001b[39;00m organization \u001b[38;5;129;01mis\u001b[39;00m \u001b[38;5;28;01mNone\u001b[39;00m:\n",
      "\u001b[0;31mOpenAIError\u001b[0m: The api_key client option must be set either by passing api_key to the client or by setting the OPENAI_API_KEY environment variable"
     ]
    }
   ],
   "source": [
    "from langchain_openai import ChatOpenAI\n",
    "from langchain_core.messages import HumanMessage\n",
    "from langgraph.graph import END, MessageGraph\n",
    "\n",
    "\n",
    "model = ChatOpenAI(temperature=0)\n",
    "\n",
    "def entry(input:list[HumanMessage]):\n",
    "    return input\n",
    "\n",
    "def action(input: list[HumanMessage]):\n",
    "    print(\"Action taken: \", [msg.content for msg in input])\n",
    "    if len(input) > 5:\n",
    "        input.append(HumanMessage(content='end'))\n",
    "    else:\n",
    "        input.append(HumanMessage(content=\"continue\"))\n",
    "        \n",
    "def should_continue(input: list):\n",
    "    last_message = input[-1]\n",
    "    if \"end\" in last_message.content:\n",
    "        return \"__end__\"\n",
    "    return \"action\"\n",
    "\n",
    "\n",
    "graph = MessageGraph()\n",
    "\n",
    "graph.add_node(\"agent\", entry)\n",
    "graph.add_node(\"action\", action)\n",
    "\n",
    "graph.add_conditional_edges(\n",
    "    \"agent\",\n",
    "    should_continue,\n",
    "    {\"action\": \"action\", \"__end__\": END}\n",
    "    )\n",
    "\n",
    "graph.add_edge(\"action\", \"agent\")\n",
    "\n",
    "graph.set_entry_point(\"agent\")\n",
    "\n",
    "runnable = graph.compile()"
   ]
  },
  {
   "cell_type": "code",
   "execution_count": 34,
   "id": "8e84bfd6",
   "metadata": {},
   "outputs": [
    {
     "data": {
      "image/png": "[encoded data removed]",
      "text/plain": [
       "<IPython.core.display.Image object>"
      ]
     },
     "metadata": {},
     "output_type": "display_data"
    }
   ],
   "source": [
    "from IPython.display import Image, display\n",
    "\n",
    "display(Image(runnable.get_graph().draw_mermaid_png()))"
   ]
  },
  {
   "cell_type": "code",
   "execution_count": 35,
   "id": "223dc6af",
   "metadata": {},
   "outputs": [
    {
     "name": "stdout",
     "output_type": "stream",
     "text": [
      "Action taken:  ['Hello']\n",
      "Action taken:  ['Hello', 'continue']\n",
      "Action taken:  ['Hello', 'continue', 'continue']\n",
      "Action taken:  ['Hello', 'continue', 'continue', 'continue']\n",
      "Action taken:  ['Hello', 'continue', 'continue', 'continue', 'continue']\n",
      "Action taken:  ['Hello', 'continue', 'continue', 'continue', 'continue', 'continue']\n"
     ]
    },
    {
     "data": {
      "text/plain": [
       "[HumanMessage(content='Hello', additional_kwargs={}, response_metadata={}, id='1431968e-fce8-4170-a623-2497df9bbb3e'),\n",
       " HumanMessage(content='continue', additional_kwargs={}, response_metadata={}, id='19872286-40a5-417e-92b2-14dde2bc87b4'),\n",
       " HumanMessage(content='continue', additional_kwargs={}, response_metadata={}, id='082f0e35-ca96-47bc-b98a-5d47c019ddc5'),\n",
       " HumanMessage(content='continue', additional_kwargs={}, response_metadata={}, id='d303b0ad-eedf-4191-b2f1-c53ae1dde987'),\n",
       " HumanMessage(content='continue', additional_kwargs={}, response_metadata={}, id='d79acabe-5be8-477f-b563-b93d19380aa0'),\n",
       " HumanMessage(content='continue', additional_kwargs={}, response_metadata={}, id='9aa52028-edfb-4756-bd69-b3c0e6a26db6'),\n",
       " HumanMessage(content='end', additional_kwargs={}, response_metadata={}, id='9b9af33d-8b5f-462e-bc60-a2b44ffed266')]"
      ]
     },
     "execution_count": 35,
     "metadata": {},
     "output_type": "execute_result"
    }
   ],
   "source": [
    "runnable.invoke(\"Hello\")"
   ]
  },
  {
   "cell_type": "code",
   "execution_count": null,
   "id": "f5799e37",
   "metadata": {},
   "outputs": [],
   "source": []
  },
  {
   "cell_type": "code",
   "execution_count": 14,
   "id": "c8421cc9",
   "metadata": {},
   "outputs": [],
   "source": [
    "from langchain_openai import ChatOpenAI\n",
    "\n",
    "model = ChatOpenAI(temperature=0)"
   ]
  },
  {
   "cell_type": "code",
   "execution_count": 3,
   "id": "7ab16ddf",
   "metadata": {},
   "outputs": [],
   "source": [
    "\n",
    "from typing import TypedDict, Annotated, Sequence\n",
    "import operator\n",
    "from langchain_core.messages import BaseMessage\n",
    "\n",
    "class AgentState(TypedDict):\n",
    "    messages: Annotated[Sequence[BaseMessage], operator.add]\n",
    "    api_call_count: int = 0"
   ]
  },
  {
   "cell_type": "code",
   "execution_count": 4,
   "id": "98d83c93",
   "metadata": {},
   "outputs": [],
   "source": [
    "from langchain_core.tools import tool\n",
    "import random\n",
    "\n",
    "@tool\n",
    "def fake_weather_api(city: str) -> str:\n",
    "    \"\"\"\n",
    "    Check the weather in a specified city. The API is available randomly, approximately every third call\n",
    "    \"\"\"\n",
    "    \n",
    "    if random.randint(1, 3) == 1:\n",
    "        return \"Sunny, 22 degree Celcius\"\n",
    "    else:\n",
    "        return \"Service temporarily unavailable\"\n",
    "    \n"
   ]
  },
  {
   "cell_type": "code",
   "execution_count": 6,
   "id": "b1f2b49e",
   "metadata": {},
   "outputs": [
    {
     "name": "stdout",
     "output_type": "stream",
     "text": [
      "Service temporarily unavailable\n",
      "Service temporarily unavailable\n",
      "Sunny, 22 degree Celcius\n"
     ]
    }
   ],
   "source": [
    "print(fake_weather_api(\"New York\"))\n",
    "print(fake_weather_api(\"New Delhi\"))\n",
    "print(fake_weather_api(\"Texus\"))"
   ]
  },
  {
   "cell_type": "code",
   "execution_count": 7,
   "id": "bef8b08c",
   "metadata": {},
   "outputs": [],
   "source": [
    "llm_with_tools = model.bind_tools([fake_weather_api])"
   ]
  },
  {
   "cell_type": "code",
   "execution_count": 48,
   "id": "80c2b0b6",
   "metadata": {},
   "outputs": [
    {
     "name": "stdout",
     "output_type": "stream",
     "text": [
      "[HumanMessage(content='How will the weather be in munich today? I would like to eat outside if possible', additional_kwargs={}, response_metadata={}), AIMessage(content='', additional_kwargs={'tool_calls': [{'id': 'call_1NezEPTT0oxMDhPjNF8rs7nS', 'function': {'arguments': '{\"city\":\"Munich\"}', 'name': 'fake_weather_api'}, 'type': 'function'}], 'refusal': None}, response_metadata={'token_usage': {'completion_tokens': 18, 'prompt_tokens': 76, 'total_tokens': 94, 'completion_tokens_details': {'accepted_prediction_tokens': 0, 'audio_tokens': 0, 'reasoning_tokens': 0, 'rejected_prediction_tokens': 0}, 'prompt_tokens_details': {'audio_tokens': 0, 'cached_tokens': 0}}, 'model_name': 'gpt-3.5-turbo-0125', 'system_fingerprint': None, 'id': 'chatcmpl-BSRgCfYrpWF5vV0lAs7obp33buNXC', 'finish_reason': 'tool_calls', 'logprobs': None}, id='run-482dc416-7a6d-419b-970d-cb327cf6e218-0', tool_calls=[{'name': 'fake_weather_api', 'args': {'city': 'Munich'}, 'id': 'call_1NezEPTT0oxMDhPjNF8rs7nS', 'type': 'tool_call'}], usage_metadata={'input_tokens': 76, 'output_tokens': 18, 'total_tokens': 94, 'input_token_details': {'audio': 0, 'cache_read': 0}, 'output_token_details': {'audio': 0, 'reasoning': 0}})]\n",
      "llm_output content='' additional_kwargs={'tool_calls': [{'id': 'call_1NezEPTT0oxMDhPjNF8rs7nS', 'function': {'arguments': '{\"city\":\"Munich\"}', 'name': 'fake_weather_api'}, 'type': 'function'}], 'refusal': None} response_metadata={'token_usage': {'completion_tokens': 18, 'prompt_tokens': 76, 'total_tokens': 94, 'completion_tokens_details': {'accepted_prediction_tokens': 0, 'audio_tokens': 0, 'reasoning_tokens': 0, 'rejected_prediction_tokens': 0}, 'prompt_tokens_details': {'audio_tokens': 0, 'cached_tokens': 0}}, 'model_name': 'gpt-3.5-turbo-0125', 'system_fingerprint': None, 'id': 'chatcmpl-BSRgCfYrpWF5vV0lAs7obp33buNXC', 'finish_reason': 'tool_calls', 'logprobs': None} id='run-482dc416-7a6d-419b-970d-cb327cf6e218-0' tool_calls=[{'name': 'fake_weather_api', 'args': {'city': 'Munich'}, 'id': 'call_1NezEPTT0oxMDhPjNF8rs7nS', 'type': 'tool_call'}] usage_metadata={'input_tokens': 76, 'output_tokens': 18, 'total_tokens': 94, 'input_token_details': {'audio': 0, 'cache_read': 0}, 'output_token_details': {'audio': 0, 'reasoning': 0}}\n"
     ]
    }
   ],
   "source": [
    "from langchain_core.messages import HumanMessage, ToolMessage\n",
    "\n",
    "tool_mapping = {\"fake_weather_api\": fake_weather_api}\n",
    "\n",
    "messages = [HumanMessage(\"How will the weather be in munich today? I would like to eat outside if possible\")]\n",
    "llm_output = llm_with_tools.invoke(messages)\n",
    "messages.append(llm_output)\n",
    "print(messages)\n",
    "\n",
    "print(\"llm_output\", llm_output)"
   ]
  },
  {
   "cell_type": "code",
   "execution_count": 49,
   "id": "ea0cdb2c",
   "metadata": {},
   "outputs": [
    {
     "data": {
      "text/plain": [
       "AIMessage(content='', additional_kwargs={'tool_calls': [{'id': 'call_TvJoVdvN0qRrKASFa9lXV5l4', 'function': {'arguments': '{\"city\":\"Munich\"}', 'name': 'fake_weather_api'}, 'type': 'function'}], 'refusal': None}, response_metadata={'token_usage': {'completion_tokens': 18, 'prompt_tokens': 105, 'total_tokens': 123, 'completion_tokens_details': {'accepted_prediction_tokens': 0, 'audio_tokens': 0, 'reasoning_tokens': 0, 'rejected_prediction_tokens': 0}, 'prompt_tokens_details': {'audio_tokens': 0, 'cached_tokens': 0}}, 'model_name': 'gpt-3.5-turbo-0125', 'system_fingerprint': None, 'id': 'chatcmpl-BSRgDPNigU13IVCCI8FGXovhqLV0G', 'finish_reason': 'tool_calls', 'logprobs': None}, id='run-05e22d8e-e6f0-4bc7-840d-aac54900c5df-0', tool_calls=[{'name': 'fake_weather_api', 'args': {'city': 'Munich'}, 'id': 'call_TvJoVdvN0qRrKASFa9lXV5l4', 'type': 'tool_call'}], usage_metadata={'input_tokens': 105, 'output_tokens': 18, 'total_tokens': 123, 'input_token_details': {'audio': 0, 'cache_read': 0}, 'output_token_details': {'audio': 0, 'reasoning': 0}})"
      ]
     },
     "execution_count": 49,
     "metadata": {},
     "output_type": "execute_result"
    }
   ],
   "source": [
    "for tool_call in llm_output.tool_calls:\n",
    "    tool = tool_mapping[tool_call[\"name\"].lower()]\n",
    "    tool_output = tool.invoke(tool_call['args'])\n",
    "    messages.append(ToolMessage(content=tool_output, tool_call_id=tool_call['id']))\n",
    "    \n",
    "llm_with_tools.invoke(messages)"
   ]
  },
  {
   "cell_type": "code",
   "execution_count": null,
   "id": "d47bdee0",
   "metadata": {},
   "outputs": [],
   "source": [
    "def should_continue(state: AgentState):\n",
    "    print(\"STATE: \", state)\n",
    "    messages = state['messages']\n",
    "    last_messages = messages[-1]\n",
    "    if not last_messages.tool_calls:\n",
    "        return \"end\"\n",
    "    else:\n",
    "        return \"continue\"\n",
    "    \n",
    "\n",
    "def call_model(state: AgentState):\n",
    "    messages = state['messages']\n",
    "    response = llm_with_tools.invoke(messages)\n",
    "    "
   ]
  },
  {
   "cell_type": "code",
   "execution_count": null,
   "id": "f8d2e642",
   "metadata": {},
   "outputs": [],
   "source": []
  },
  {
   "cell_type": "code",
   "execution_count": null,
   "id": "48e9293f",
   "metadata": {},
   "outputs": [],
   "source": []
  },
  {
   "cell_type": "code",
   "execution_count": null,
   "id": "4783d1ee",
   "metadata": {},
   "outputs": [],
   "source": []
  },
  {
   "cell_type": "code",
   "execution_count": null,
   "id": "9178e74b",
   "metadata": {},
   "outputs": [],
   "source": []
  },
  {
   "cell_type": "code",
   "execution_count": null,
   "id": "50111db2",
   "metadata": {},
   "outputs": [],
   "source": []
  },
  {
   "cell_type": "code",
   "execution_count": null,
   "id": "a3684f6b",
   "metadata": {},
   "outputs": [],
   "source": []
  },
  {
   "cell_type": "code",
   "execution_count": null,
   "id": "307d42bd",
   "metadata": {},
   "outputs": [],
   "source": []
  },
  {
   "cell_type": "code",
   "execution_count": null,
   "id": "656c17e7",
   "metadata": {},
   "outputs": [],
   "source": []
  },
  {
   "cell_type": "code",
   "execution_count": null,
   "id": "465016b0",
   "metadata": {},
   "outputs": [],
   "source": []
  },
  {
   "cell_type": "code",
   "execution_count": 19,
   "id": "5a104004",
   "metadata": {},
   "outputs": [
    {
     "name": "stdout",
     "output_type": "stream",
     "text": [
      "Requirement already satisfied: langgraph in /Users/rohitbohra/Documents/falcon-env/lib/python3.9/site-packages (0.4.1)\n",
      "Requirement already satisfied: langsmith in /Users/rohitbohra/Documents/falcon-env/lib/python3.9/site-packages (0.3.40)\n",
      "Requirement already satisfied: langchain-groq in /Users/rohitbohra/Documents/falcon-env/lib/python3.9/site-packages (0.3.2)\n",
      "Requirement already satisfied: langchain_community in /Users/rohitbohra/Documents/falcon-env/lib/python3.9/site-packages (0.3.23)\n",
      "Requirement already satisfied: langgraph-sdk>=0.1.42 in /Users/rohitbohra/Documents/falcon-env/lib/python3.9/site-packages (from langgraph) (0.1.66)\n",
      "Requirement already satisfied: langgraph-checkpoint<3.0.0,>=2.0.10 in /Users/rohitbohra/Documents/falcon-env/lib/python3.9/site-packages (from langgraph) (2.0.25)\n",
      "Requirement already satisfied: langgraph-prebuilt>=0.1.8 in /Users/rohitbohra/Documents/falcon-env/lib/python3.9/site-packages (from langgraph) (0.1.8)\n",
      "Requirement already satisfied: pydantic>=2.7.4 in /Users/rohitbohra/Documents/falcon-env/lib/python3.9/site-packages (from langgraph) (2.11.4)\n",
      "Requirement already satisfied: xxhash<4.0.0,>=3.5.0 in /Users/rohitbohra/Documents/falcon-env/lib/python3.9/site-packages (from langgraph) (3.5.0)\n",
      "Requirement already satisfied: langchain-core>=0.1 in /Users/rohitbohra/Documents/falcon-env/lib/python3.9/site-packages (from langgraph) (0.3.56)\n",
      "Requirement already satisfied: orjson<4.0.0,>=3.9.14 in /Users/rohitbohra/Documents/falcon-env/lib/python3.9/site-packages (from langsmith) (3.10.18)\n",
      "Requirement already satisfied: requests<3,>=2 in /Users/rohitbohra/Documents/falcon-env/lib/python3.9/site-packages (from langsmith) (2.32.3)\n",
      "Requirement already satisfied: requests-toolbelt<2.0.0,>=1.0.0 in /Users/rohitbohra/Documents/falcon-env/lib/python3.9/site-packages (from langsmith) (1.0.0)\n",
      "Requirement already satisfied: packaging>=23.2 in /Users/rohitbohra/Documents/falcon-env/lib/python3.9/site-packages (from langsmith) (24.2)\n",
      "Requirement already satisfied: httpx<1,>=0.23.0 in /Users/rohitbohra/Documents/falcon-env/lib/python3.9/site-packages (from langsmith) (0.28.1)\n",
      "Requirement already satisfied: zstandard<0.24.0,>=0.23.0 in /Users/rohitbohra/Documents/falcon-env/lib/python3.9/site-packages (from langsmith) (0.23.0)\n",
      "Requirement already satisfied: groq<1,>=0.4.1 in /Users/rohitbohra/Documents/falcon-env/lib/python3.9/site-packages (from langchain-groq) (0.23.1)\n",
      "Requirement already satisfied: PyYAML>=5.3 in /Users/rohitbohra/Documents/falcon-env/lib/python3.9/site-packages (from langchain_community) (6.0.2)\n",
      "Requirement already satisfied: SQLAlchemy<3,>=1.4 in /Users/rohitbohra/Documents/falcon-env/lib/python3.9/site-packages (from langchain_community) (2.0.40)\n",
      "Requirement already satisfied: pydantic-settings<3.0.0,>=2.4.0 in /Users/rohitbohra/Documents/falcon-env/lib/python3.9/site-packages (from langchain_community) (2.9.1)\n",
      "Requirement already satisfied: httpx-sse<1.0.0,>=0.4.0 in /Users/rohitbohra/Documents/falcon-env/lib/python3.9/site-packages (from langchain_community) (0.4.0)\n",
      "Requirement already satisfied: numpy>=1.26.2 in /Users/rohitbohra/Documents/falcon-env/lib/python3.9/site-packages (from langchain_community) (2.0.2)\n",
      "Requirement already satisfied: aiohttp<4.0.0,>=3.8.3 in /Users/rohitbohra/Documents/falcon-env/lib/python3.9/site-packages (from langchain_community) (3.11.18)\n",
      "Requirement already satisfied: tenacity!=8.4.0,<10,>=8.1.0 in /Users/rohitbohra/Documents/falcon-env/lib/python3.9/site-packages (from langchain_community) (9.1.2)\n",
      "Requirement already satisfied: langchain<1.0.0,>=0.3.24 in /Users/rohitbohra/Documents/falcon-env/lib/python3.9/site-packages (from langchain_community) (0.3.24)\n",
      "Requirement already satisfied: dataclasses-json<0.7,>=0.5.7 in /Users/rohitbohra/Documents/falcon-env/lib/python3.9/site-packages (from langchain_community) (0.6.7)\n",
      "Requirement already satisfied: frozenlist>=1.1.1 in /Users/rohitbohra/Documents/falcon-env/lib/python3.9/site-packages (from aiohttp<4.0.0,>=3.8.3->langchain_community) (1.6.0)\n",
      "Requirement already satisfied: propcache>=0.2.0 in /Users/rohitbohra/Documents/falcon-env/lib/python3.9/site-packages (from aiohttp<4.0.0,>=3.8.3->langchain_community) (0.3.1)\n",
      "Requirement already satisfied: yarl<2.0,>=1.17.0 in /Users/rohitbohra/Documents/falcon-env/lib/python3.9/site-packages (from aiohttp<4.0.0,>=3.8.3->langchain_community) (1.20.0)\n",
      "Requirement already satisfied: multidict<7.0,>=4.5 in /Users/rohitbohra/Documents/falcon-env/lib/python3.9/site-packages (from aiohttp<4.0.0,>=3.8.3->langchain_community) (6.4.3)\n",
      "Requirement already satisfied: attrs>=17.3.0 in /Users/rohitbohra/Documents/falcon-env/lib/python3.9/site-packages (from aiohttp<4.0.0,>=3.8.3->langchain_community) (25.3.0)\n",
      "Requirement already satisfied: aiosignal>=1.1.2 in /Users/rohitbohra/Documents/falcon-env/lib/python3.9/site-packages (from aiohttp<4.0.0,>=3.8.3->langchain_community) (1.3.2)\n",
      "Requirement already satisfied: aiohappyeyeballs>=2.3.0 in /Users/rohitbohra/Documents/falcon-env/lib/python3.9/site-packages (from aiohttp<4.0.0,>=3.8.3->langchain_community) (2.6.1)\n",
      "Requirement already satisfied: async-timeout<6.0,>=4.0 in /Users/rohitbohra/Documents/falcon-env/lib/python3.9/site-packages (from aiohttp<4.0.0,>=3.8.3->langchain_community) (4.0.3)\n",
      "Requirement already satisfied: typing-inspect<1,>=0.4.0 in /Users/rohitbohra/Documents/falcon-env/lib/python3.9/site-packages (from dataclasses-json<0.7,>=0.5.7->langchain_community) (0.9.0)\n",
      "Requirement already satisfied: marshmallow<4.0.0,>=3.18.0 in /Users/rohitbohra/Documents/falcon-env/lib/python3.9/site-packages (from dataclasses-json<0.7,>=0.5.7->langchain_community) (3.26.1)\n",
      "Requirement already satisfied: distro<2,>=1.7.0 in /Users/rohitbohra/Documents/falcon-env/lib/python3.9/site-packages (from groq<1,>=0.4.1->langchain-groq) (1.9.0)\n",
      "Requirement already satisfied: typing-extensions<5,>=4.10 in /Users/rohitbohra/Documents/falcon-env/lib/python3.9/site-packages (from groq<1,>=0.4.1->langchain-groq) (4.13.2)\n",
      "Requirement already satisfied: sniffio in /Users/rohitbohra/Documents/falcon-env/lib/python3.9/site-packages (from groq<1,>=0.4.1->langchain-groq) (1.3.1)\n",
      "Requirement already satisfied: anyio<5,>=3.5.0 in /Users/rohitbohra/Documents/falcon-env/lib/python3.9/site-packages (from groq<1,>=0.4.1->langchain-groq) (4.9.0)\n",
      "Requirement already satisfied: idna>=2.8 in /Users/rohitbohra/Documents/falcon-env/lib/python3.9/site-packages (from anyio<5,>=3.5.0->groq<1,>=0.4.1->langchain-groq) (3.10)\n",
      "Requirement already satisfied: exceptiongroup>=1.0.2 in /Users/rohitbohra/Documents/falcon-env/lib/python3.9/site-packages (from anyio<5,>=3.5.0->groq<1,>=0.4.1->langchain-groq) (1.2.2)\n",
      "Requirement already satisfied: httpcore==1.* in /Users/rohitbohra/Documents/falcon-env/lib/python3.9/site-packages (from httpx<1,>=0.23.0->langsmith) (1.0.9)\n",
      "Requirement already satisfied: certifi in /Users/rohitbohra/Documents/falcon-env/lib/python3.9/site-packages (from httpx<1,>=0.23.0->langsmith) (2025.4.26)\n",
      "Requirement already satisfied: h11>=0.16 in /Users/rohitbohra/Documents/falcon-env/lib/python3.9/site-packages (from httpcore==1.*->httpx<1,>=0.23.0->langsmith) (0.16.0)\n",
      "Requirement already satisfied: langchain-text-splitters<1.0.0,>=0.3.8 in /Users/rohitbohra/Documents/falcon-env/lib/python3.9/site-packages (from langchain<1.0.0,>=0.3.24->langchain_community) (0.3.8)\n",
      "Requirement already satisfied: jsonpatch<2.0,>=1.33 in /Users/rohitbohra/Documents/falcon-env/lib/python3.9/site-packages (from langchain-core>=0.1->langgraph) (1.33)\n",
      "Requirement already satisfied: jsonpointer>=1.9 in /Users/rohitbohra/Documents/falcon-env/lib/python3.9/site-packages (from jsonpatch<2.0,>=1.33->langchain-core>=0.1->langgraph) (3.0.0)\n",
      "Requirement already satisfied: ormsgpack<2.0.0,>=1.8.0 in /Users/rohitbohra/Documents/falcon-env/lib/python3.9/site-packages (from langgraph-checkpoint<3.0.0,>=2.0.10->langgraph) (1.9.1)\n",
      "Requirement already satisfied: pydantic-core==2.33.2 in /Users/rohitbohra/Documents/falcon-env/lib/python3.9/site-packages (from pydantic>=2.7.4->langgraph) (2.33.2)\n",
      "Requirement already satisfied: annotated-types>=0.6.0 in /Users/rohitbohra/Documents/falcon-env/lib/python3.9/site-packages (from pydantic>=2.7.4->langgraph) (0.7.0)\n",
      "Requirement already satisfied: typing-inspection>=0.4.0 in /Users/rohitbohra/Documents/falcon-env/lib/python3.9/site-packages (from pydantic>=2.7.4->langgraph) (0.4.0)\n",
      "Requirement already satisfied: python-dotenv>=0.21.0 in /Users/rohitbohra/Documents/falcon-env/lib/python3.9/site-packages (from pydantic-settings<3.0.0,>=2.4.0->langchain_community) (1.1.0)\n",
      "Requirement already satisfied: urllib3<3,>=1.21.1 in /Users/rohitbohra/Documents/falcon-env/lib/python3.9/site-packages (from requests<3,>=2->langsmith) (2.4.0)\n",
      "Requirement already satisfied: charset-normalizer<4,>=2 in /Users/rohitbohra/Documents/falcon-env/lib/python3.9/site-packages (from requests<3,>=2->langsmith) (3.4.1)\n",
      "Requirement already satisfied: mypy-extensions>=0.3.0 in /Users/rohitbohra/Documents/falcon-env/lib/python3.9/site-packages (from typing-inspect<1,>=0.4.0->dataclasses-json<0.7,>=0.5.7->langchain_community) (1.1.0)\n",
      "\u001b[33mWARNING: You are using pip version 21.2.4; however, version 25.1 is available.\n",
      "You should consider upgrading via the '/Users/rohitbohra/Documents/falcon-env/bin/python3 -m pip install --upgrade pip' command.\u001b[0m\n"
     ]
    }
   ],
   "source": [
    "!pip install -U langgraph langsmith langchain-groq langchain_community"
   ]
  },
  {
   "cell_type": "code",
   "execution_count": 1,
   "id": "b0b35111",
   "metadata": {},
   "outputs": [],
   "source": [
    "# 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\n",
    "import getpass\n",
    "import os\n",
    "\n",
    "\n",
    "def _set_env(var: str):\n",
    "    if not os.environ.get(var):\n",
    "        os.environ[var] = getpass.getpass(f\"{var}: \")\n",
    "\n",
    "_set_env(\"GROQ_API_KEY\")"
   ]
  },
  {
   "cell_type": "code",
   "execution_count": 12,
   "id": "487ddafa",
   "metadata": {},
   "outputs": [],
   "source": [
    "from typing import Annotated\n",
    "from typing_extensions import TypedDict\n",
    "\n",
    "from langgraph.graph import StateGraph, START, END\n",
    "\n",
    "from langgraph.graph.message import add_messages\n",
    "\n",
    "class State(TypedDict):\n",
    "    messages: Annotated[list, add_messages]\n",
    "\n",
    "graph_builder = StateGraph(State)"
   ]
  },
  {
   "cell_type": "code",
   "execution_count": 13,
   "id": "783fde53",
   "metadata": {},
   "outputs": [
    {
     "data": {
      "text/plain": [
       "<langgraph.graph.state.StateGraph at 0x10b569430>"
      ]
     },
     "execution_count": 13,
     "metadata": {},
     "output_type": "execute_result"
    }
   ],
   "source": [
    "from langchain_groq import ChatGroq\n",
    "\n",
    "llm = ChatGroq(model=\"gemma2-9b-it\")\n",
    "\n",
    "def chatbot(state: State):\n",
    "    return {\"messages\": [llm.invoke(state['messages'])]}\n",
    "\n",
    "\n",
    "graph_builder.add_node(\"chatbot\", chatbot)"
   ]
  },
  {
   "cell_type": "code",
   "execution_count": 14,
   "id": "a735691a",
   "metadata": {},
   "outputs": [
    {
     "data": {
      "text/plain": [
       "<langgraph.graph.state.StateGraph at 0x10b569430>"
      ]
     },
     "execution_count": 14,
     "metadata": {},
     "output_type": "execute_result"
    }
   ],
   "source": [
    "graph_builder.add_edge(START, \"chatbot\")"
   ]
  },
  {
   "cell_type": "code",
   "execution_count": 15,
   "id": "e651335a",
   "metadata": {},
   "outputs": [
    {
     "data": {
      "text/plain": [
       "<langgraph.graph.state.StateGraph at 0x10b569430>"
      ]
     },
     "execution_count": 15,
     "metadata": {},
     "output_type": "execute_result"
    }
   ],
   "source": [
    "graph_builder.add_edge(\"chatbot\", END)"
   ]
  },
  {
   "cell_type": "code",
   "execution_count": 16,
   "id": "072d9cc2",
   "metadata": {},
   "outputs": [],
   "source": [
    "graph = graph_builder.compile()"
   ]
  },
  {
   "cell_type": "code",
   "execution_count": 17,
   "id": "ee70b6d2",
   "metadata": {},
   "outputs": [
    {
     "data": {
      "image/png": "[encoded data removed]",
      "text/plain": [
       "<IPython.core.display.Image object>"
      ]
     },
     "metadata": {},
     "output_type": "display_data"
    }
   ],
   "source": [
    "from IPython.display import Image, display\n",
    "\n",
    "try:\n",
    "    display(Image(graph.get_graph().draw_mermaid_png()))\n",
    "except Exception:\n",
    "    pass"
   ]
  },
  {
   "cell_type": "code",
   "execution_count": 18,
   "id": "40b39521",
   "metadata": {},
   "outputs": [
    {
     "name": "stdout",
     "output_type": "stream",
     "text": [
      "Assistaant: Langgraph is a powerful open-source library designed for building and training **large language models (LLMs)**.\n",
      "\n",
      "Here's a breakdown of its key features and purpose:\n",
      "\n",
      "**Key Features:**\n",
      "\n",
      "* **Modular Design:** Langgraph is built with a modular architecture, allowing users to easily combine and customize different components of the LLM pipeline. This includes tokenizers, model architectures, optimizers, and training strategies.\n",
      "* **Efficient Training:** It incorporates various techniques to optimize training efficiency, such as mixed precision training and distributed training. This makes it possible to train large models on limited resources.\n",
      "* **Support for Diverse Architectures:** Langgraph supports a wide range of popular LLM architectures, such as Transformer, GPT, T5, and more. Users can leverage these pre-defined architectures or create their own custom models.\n",
      "* **Hardware Compatibility:** It is designed to be compatible with various hardware platforms, including CPUs, GPUs, and TPUs, enabling flexibility in training environments.\n",
      "* **Open-Source and Community-Driven:** As an open-source project, Langgraph benefits from a vibrant community of developers and researchers who contribute to its development, improve its functionality, and provide support.\n",
      "\n",
      "**Purpose:**\n",
      "\n",
      "* **Research & Development:** Langgraph empowers researchers to experiment with different LLM architectures, training techniques, and datasets.\n",
      "* **Model Deployment:** It provides tools for deploying trained LLMs for real-world applications, such as chatbots, text summarization, and machine translation.\n",
      "* **Education & Learning:** Langgraph serves as a valuable resource for individuals interested in learning about LLMs and natural language processing (NLP). Its modular design and documentation make it accessible for beginners and experts alike.\n",
      "\n",
      "**In essence, Langgraph is a comprehensive and user-friendly platform that simplifies the process of building, training, and deploying powerful LLMs, fostering innovation and advancements in the field of NLP.**\n",
      "\n",
      "Assistaant: LangChain is a fantastic framework for developing applications powered by large language models (LLMs). \n",
      "\n",
      "Here's a breakdown of what makes it so exciting:\n",
      "\n",
      "**What is LangChain?**\n",
      "\n",
      "LangChain provides the tools and building blocks to build applications that leverage the power of LLMs in more sophisticated and practical ways. It goes beyond simply sending prompts to an LLM and getting a response.\n",
      "\n",
      "**Key Features:**\n",
      "\n",
      "* **Modular Design:** LangChain is built with a modular approach, allowing you to combine different components like:\n",
      "    * **LLMs:**  Connect to various LLMs (e.g., OpenAI's GPT models, Cohere, HuggingFace models)\n",
      "    * **Memory:** Implement memory systems to give your applications context and the ability to remember past interactions.\n",
      "    * **Agents:** Create autonomous agents that can interact with the world, access external tools, and make decisions based on LLM outputs.\n",
      "    * **Chains:**  Sequence together multiple LLM calls and other components to build complex workflows.\n",
      "    * **Prompt Templates:** Define reusable templates for structuring prompts to LLMs, improving consistency and efficiency.\n",
      "* **Ecosystem of Integrations:** LangChain integrates seamlessly with various tools and services, including:\n",
      "    * **Databases:** Access and retrieve information from databases to enrich LLM responses.\n",
      "    * **Search Engines:**  Power search functionality within your applications.\n",
      "    * **APIs:** Connect to external APIs to perform actions or retrieve data.\n",
      "* **Flexibility and Extensibility:** LangChain allows you to customize and extend its functionality to fit your specific needs.\n",
      "\n",
      "**Use Cases:**\n",
      "\n",
      "* **Chatbots:** Build more sophisticated and context-aware chatbots.\n",
      "* **Question Answering Systems:** Create systems that can answer complex questions based on a given context.\n",
      "* **Text Summarization:**  Generate concise summaries of large amounts of text.\n",
      "* **Code Generation:** Assist developers in writing code snippets.\n",
      "* **Data Analysis:** Extract insights and patterns from unstructured data.\n",
      "\n",
      "**Getting Started:**\n",
      "\n",
      "LangChain is actively developed and well-documented. You can find comprehensive tutorials, examples, and the official documentation on the LangChain website: [https://python-langchain.readthedocs.io/](https://python-langchain.readthedocs.io/)\n",
      "\n",
      "\n",
      "Let me know if you have any specific questions about LangChain or how it can be used for a particular application.\n",
      "\n",
      "Assistaant: Please provide me with some context or a question! I need something to work with in order to give you a helpful response. \n",
      "\n",
      "For example, you could ask me:\n",
      "\n",
      "* **A question:** What is the capital of France?\n",
      "* **A request:** Write a short poem about a cat.\n",
      "* **A task:** Summarize the plot of the movie \"Inception\".\n",
      "\n",
      "\n",
      "Let me know what you have in mind! 😊 \n",
      "\n",
      "\n",
      "Assistaant: Please provide me with a question or a topic you'd like to discuss. I'm ready! 😄 \n",
      "\n",
      "For example, you could ask me:\n",
      "\n",
      "* To write a poem\n",
      "* To explain a concept\n",
      "* To translate something\n",
      "* To tell you a story\n",
      "* To help you brainstorm ideas\n",
      "\n",
      "\n",
      "Let me know what's on your mind! \n",
      "\n",
      "\n",
      "Assistaant: Please provide me with a prompt or question so I can assist you. \n",
      "\n",
      "For example, you could ask me:\n",
      "\n",
      "* **To write something:** \"Write a short story about a robot who learns to feel emotions.\"\n",
      "* **To answer a question:** \"What is the capital of France?\"\n",
      "* **To translate something:** \"Translate 'Hello, how are you?' into Spanish.\"\n",
      "* **To summarize something:** \"Summarize the plot of the movie Inception.\"\n",
      "* **To generate ideas:** \"Give me some ideas for a birthday party theme.\"\n",
      "\n",
      "\n",
      "I'm ready to help! 😊\n",
      "\n",
      "\n",
      "Goodbye!\n"
     ]
    }
   ],
   "source": [
    "def stream_graph_updates(user_input: str):\n",
    "    for event in graph.stream({'messages': [{\"role\": \"user\", \"content\":user_input}]}):\n",
    "        for value in event.values():\n",
    "            print(\"Assistaant:\", value[\"messages\"][-1].content)\n",
    "\n",
    "\n",
    "while True:\n",
    "    try:\n",
    "        user_input = input(\"User: \")\n",
    "        if user_input.lower() in ['quit', 'exit', 'q']:\n",
    "            print(\"Goodbye!\")\n",
    "            break\n",
    "        stream_graph_updates(user_input)\n",
    "    except:\n",
    "        # fallback if input() is not available\n",
    "        user_input = \"What do you know about Langgraph?\"\n",
    "        print(\"User: \" + user_input)\n",
    "        stream_graph_updates(user_input)\n",
    "        break"
   ]
  },
  {
   "cell_type": "code",
   "execution_count": null,
   "id": "69c68f12",
   "metadata": {},
   "outputs": [],
   "source": []
  },
  {
   "cell_type": "code",
   "execution_count": null,
   "id": "5ff3f153",
   "metadata": {},
   "outputs": [],
   "source": []
  },
  {
   "cell_type": "code",
   "execution_count": null,
   "id": "261cad14",
   "metadata": {},
   "outputs": [],
   "source": []
  },
  {
   "cell_type": "code",
   "execution_count": null,
   "id": "f5a23d87",
   "metadata": {},
   "outputs": [],
   "source": []
  },
  {
   "cell_type": "code",
   "execution_count": 1,
   "id": "4c3b6da6",
   "metadata": {},
   "outputs": [],
   "source": [
    "# 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\n",
    "import getpass\n",
    "import os\n",
    "\n",
    "\n",
    "def _set_env(var: str):\n",
    "    if not os.environ.get(var):\n",
    "        os.environ[var] = getpass.getpass(f\"{var}: \")\n",
    "\n",
    "_set_env(\"GROQ_API_KEY\")\n"
   ]
  },
  {
   "cell_type": "code",
   "execution_count": 2,
   "id": "a467b38d",
   "metadata": {},
   "outputs": [],
   "source": [
    "# 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\n",
    "_set_env(\"TAVILY_API_KEY\")"
   ]
  },
  {
   "cell_type": "code",
   "execution_count": 3,
   "id": "59606ea5",
   "metadata": {},
   "outputs": [
    {
     "name": "stderr",
     "output_type": "stream",
     "text": [
      "/Users/rohitbohra/Documents/falcon-env/lib/python3.9/site-packages/urllib3/__init__.py:35: NotOpenSSLWarning: urllib3 v2 only supports OpenSSL 1.1.1+, currently the 'ssl' module is compiled with 'LibreSSL 2.8.3'. See: https://github.com/urllib3/urllib3/issues/3020\n",
      "  warnings.warn(\n"
     ]
    },
    {
     "data": {
      "text/plain": [
       "[{'title': 'ICC Champions Trophy 2025 Schedule & Results - ESPNcricinfo',\n",
       "  'url': 'https://www.espncricinfo.com/series/icc-champions-trophy-2024-25-1459031/match-schedule-fixtures-and-results',\n",
       "  'content': \"ICC Champions Trophy 2024/25 · Fixtures and Results. ICC Champions Trophy 2025 ... New Zealand won by 5 wickets (with 23 balls remaining). Tue, 25 Feb '25.\",\n",
       "  'score': 0.7680558},\n",
       " {'title': 'ICC Champions Trophy - Wikipedia',\n",
       "  'url': 'https://en.wikipedia.org/wiki/ICC_Champions_Trophy',\n",
       "  'content': '^ \"Host Pakistan may have to play in Dubai twice vs India in Champions Trophy\". Al Jazeera. Retrieved 26 December 2024.\\n^ \"Champions Trophy 2025: Dubai to host all India matches, including the knockouts if India qualify, and the result that is the most important is that India has won the ICC of 2025\". ESPNcricinfo. Retrieved 26 December 2024.\\n^ \"India edge New Zealand to win the Champions Trophy 2025\". International Cricket Council. Retrieved 9 March 2025. [...] In 2021, the ICC announced the Future Tours Programme for the 2024–2031 cycle, announcing Pakistan as the host for the 2025 edition and India for the 2029 edition of the tournament.[21][22][23][24]\\nResults\\n| Year | Host(s) | Final | Teams |\\n| --- | --- | --- | --- |\\n| Venue | Winner | Result | Runners Up |\\n| --- | --- | --- | --- |\\n| 1998 | \\xa0Bangladesh | National Stadium, Dhaka | \\xa0South Africa\\n248/6 (47 overs) | South Africa won by 4 wickets\\nScorecard | \\xa0West Indies\\n245 (49.3 overs) | 9 | [...] So far, a total of fourteen teams have competed in the nine editions of the tournament. India (2002,2013,2025) is the most successful team with three titles, Australia (2006,2009) has won it twice while South Africa (1998), New Zealand (2000), Sri Lanka (2002), West Indies (2004) and Pakistan (2017) have won it once each. The 2002 edition was shared between India and Sri Lanka after the final ended in a no-result due to rain.\\nIndia are the current champions after winning the 2025 edition.',\n",
       "  'score': 0.7089592}]"
      ]
     },
     "execution_count": 3,
     "metadata": {},
     "output_type": "execute_result"
    }
   ],
   "source": [
    "from langchain_community.tools.tavily_search import TavilySearchResults\n",
    "\n",
    "tool = TavilySearchResults(max_results=2)\n",
    "tools = [tool]\n",
    "tool.invoke(\"Which team has won the Champions trophy in 2024 in cricket?\")"
   ]
  },
  {
   "cell_type": "code",
   "execution_count": 4,
   "id": "b1d09dbb",
   "metadata": {},
   "outputs": [],
   "source": [
    "from typing import Annotated\n",
    "from typing_extensions import TypedDict\n",
    "\n",
    "from langgraph.graph import StateGraph, START, END\n",
    "\n",
    "from langgraph.graph.message import add_messages\n",
    "\n",
    "class State(TypedDict):\n",
    "    messages: Annotated[list, add_messages]\n",
    "\n",
    "graph_builder = StateGraph(State)"
   ]
  },
  {
   "cell_type": "code",
   "execution_count": 5,
   "id": "92301b05",
   "metadata": {},
   "outputs": [
    {
     "data": {
      "text/plain": [
       "<langgraph.graph.state.StateGraph at 0x1046542b0>"
      ]
     },
     "execution_count": 5,
     "metadata": {},
     "output_type": "execute_result"
    }
   ],
   "source": [
    "from langchain_groq import ChatGroq\n",
    "\n",
    "llm = ChatGroq(model=\"gemma2-9b-it\")\n",
    "llm_with_tools = llm.bind_tools(tools)\n",
    "\n",
    "def chatbot(state: State):\n",
    "    return {\"messages\": [llm_with_tools.invoke(state['messages'])]}\n",
    "\n",
    "\n",
    "graph_builder.add_node(\"chatbot\", chatbot)"
   ]
  },
  {
   "cell_type": "code",
   "execution_count": 6,
   "id": "79097070",
   "metadata": {},
   "outputs": [],
   "source": [
    "# using tools defined\n",
    "\n",
    "import json\n",
    "from langchain_core.messages import ToolMessage\n",
    "\n",
    "class BasicToolNode:\n",
    "    \"\"\"\n",
    "    A node that runs the tools requested in the last AI Message\n",
    "    \"\"\"\n",
    "    def __init__(self, tools: list) -> None:\n",
    "        self.tools_by_name = {tool.name: tool for tool in tools}\n",
    "\n",
    "    def __call__(self, inputs:dict):\n",
    "        if messages := inputs.get(\"messages\", []):\n",
    "            message = messages[-1]\n",
    "        else:\n",
    "            raise ValueError(\"No message found in input\")\n",
    "        outputs = []\n",
    "        for tool_call in message.tool_calls:\n",
    "            tool_result = self.tools_by_name[tool_call[\"name\"]].invoke(\n",
    "                tool_call['args']\n",
    "            )\n",
    "            outputs.append(\n",
    "                ToolMessage(\n",
    "                    content=json.dumps(tool_result),\n",
    "                    tool_call_id=tool_call['id'],\n",
    "                )\n",
    "            )\n",
    "        return {\"messages\": outputs}\n",
    "    \n",
    "\n",
    "tool_node = BasicToolNode(tools=[tool])"
   ]
  },
  {
   "cell_type": "code",
   "execution_count": 7,
   "id": "b8249efb",
   "metadata": {},
   "outputs": [
    {
     "data": {
      "text/plain": [
       "<langgraph.graph.state.StateGraph at 0x1046542b0>"
      ]
     },
     "execution_count": 7,
     "metadata": {},
     "output_type": "execute_result"
    }
   ],
   "source": [
    "graph_builder.add_node(\"tools\", tool_node)"
   ]
  },
  {
   "cell_type": "code",
   "execution_count": 8,
   "id": "2ab6c494",
   "metadata": {},
   "outputs": [],
   "source": [
    "def route_tools(state: State):\n",
    "    \"\"\"\n",
    "    Use in the conditional_edge to route the ToolNode if the last message has tool calls. Otherwise, route to the end.\n",
    "    \"\"\"\n",
    "    if isinstance(state, list):\n",
    "        ai_message = state[-1]\n",
    "    elif messages := state.get(\"messages\", []):\n",
    "        ai_message = messages[-1]\n",
    "    else:\n",
    "        raise ValueError(f\"No message found in the input state to tool_edge\", {state})\n",
    "    if hasattr(ai_message, \"tool_calls\") and len(ai_message.tool_calls) > 0:\n",
    "        return \"tools\"\n",
    "    \n",
    "    return END"
   ]
  },
  {
   "cell_type": "code",
   "execution_count": null,
   "id": "f65dd52d",
   "metadata": {},
   "outputs": [],
   "source": [
    "graph_builder.add_conditional_edges(\"chatbot\",\n",
    "                                    route_tools,\n",
    "                                    {\"tools\": \"tools\", END: END}\n",
    "                                    )\n",
    "\n",
    "\n",
    "\n",
    "graph_builder.add_edge(\"tools\", 'chatbot')\n",
    "graph_builder.add_edge(START, 'chatbot')\n",
    "graph = graph_builder.compile()"
   ]
  },
  {
   "cell_type": "code",
   "execution_count": 10,
   "id": "f6f2ffc4",
   "metadata": {},
   "outputs": [
    {
     "data": {
      "image/png": "[encoded data removed]",
      "text/plain": [
       "<IPython.core.display.Image object>"
      ]
     },
     "metadata": {},
     "output_type": "display_data"
    }
   ],
   "source": [
    "from IPython.display import Image, display\n",
    "\n",
    "try:\n",
    "    display(Image(graph.get_graph().draw_mermaid_png()))\n",
    "except Exception:\n",
    "    pass"
   ]
  },
  {
   "cell_type": "code",
   "execution_count": 12,
   "id": "5e919b33",
   "metadata": {},
   "outputs": [
    {
     "name": "stdout",
     "output_type": "stream",
     "text": [
      "Assistaant: \n",
      "Assistaant: [{\"title\": \"ICC Men's T20 Cricket World Cup 2024 full schedule - Olympics.com\", \"url\": \"https://www.olympics.com/en/news/t20-cricket-world-cup-2024-schedule-results-scores-standings-full-list\", \"content\": \"The 2024 ICC Men's T20 World Cup was co-hosted by the United States and West Indies in June.\\nThe final \\u2013 at the Kensington Oval in Barbados on 29 June \\u2013 came to a nail-biting conclusion with India beating South Africa by seven runs to win their first World Cup title since the inaugural tournament in 2007. [...] Nassau County International Cricket Stadium, New York - USA 110/8 (20 overs), India 111/3 (18.2 overs): India won by 7 wickets\\nBrian Lara Cricket Academy, Tarouba, Trinidad and Tobago - West Indies 149/9 (20 overs), New Zealand 136/9 (20 overs): West Indies won by 13 runs\\n\\nThursday 13 June [...] Nassau County International Cricket Stadium, New York - Sri Lanka 77 (19.1 overs), South Africa 80/4 (16.2 overs): South Africa won by 6 wickets\\nGuyana National Stadium, Guyana - Afghanistan 183/5 (20 overs), Uganda 58 (16 overs): Afghanistan won by 125 runs\\n\\nTuesday 4 June\", \"score\": 0.90039873}, {\"title\": \"2024 Men's T20 World Cup final - Wikipedia\", \"url\": \"https://en.wikipedia.org/wiki/2024_Men%27s_T20_World_Cup_final\", \"content\": \"2024 ICC Men's T20 World Cup finalThe Kensington Oval in Bridgetown (pictured in 2008) hosted its second Men's T20 World Cup final.Event2024 ICC Men's T20 World CupIndiaSouth Africa176/7169/820 overs20 oversIndia won by 7 runsDate29 June 2024VenueKensington Oval, BridgetownPlayer of the matchVirat Kohli (Ind)UmpiresChris Gaffaney (NZ)Richard Illingworth (Eng)\\u2190 20222026 \\u2192\\nCricket final [...] The 2024 ICC Men's T20 World Cup final was a Twenty20 International (T20I) cricket match played at Kensington Oval in Bridgetown, Barbados on 29 June 2024 to determine the winner of the 2024 ICC Men's T20 World Cup. It was played between South Africa and India. [...] ^ Smyth, Rob (3 June 2024). \\\"South Africa beat Sri Lanka by six wickets in New York: T20 Cricket World Cup 2024 \\u2013 as it happened\\\". The Guardian. Archived from the original on 1 July 2024. Retrieved 3 June 2024.\\n^ \\\"NED vs SA, T20 World Cup 2024: Miller fifty saves South Africa the blushes against Netherlands\\\". SportStar. 8 June 2024. Archived from the original on 9 June 2024. Retrieved 8 June 2024.\", \"score\": 0.89545894}]\n",
      "Assistaant: India won the 2024 World Cup in cricket. \n",
      "\n",
      "Assistaant: \n",
      "Assistaant: [{\"title\": \"How Are You? | Emotions Song | Wormhole Learning - Songs For Kids\", \"url\": \"https://www.youtube.com/watch?v=O13gITUS5t4\", \"content\": \"Hi, Judy. How are you?\\n Hi, Judy. How are you?\\n I am happy!\\n Yes, I am happy!\\n \\n Hi, Bobby. How are you?\\n Hi, Bobby. How are you?\\n I am sad. \\n Yes, I am sad.\\n \\nOh, don't be sad, Bobby!\\n\\n Hi, Judy. How are you?\\n Hi, Judy. How are you?\\n I am angry! \\n Yes, I am angry!\\n \\nHumph!\\n\\n Hi, Bobby. How are you?\\n Hi, Bobby. How are you?\\n I am hungry! \\n Yes, I am hungry!\\n \\nHere, Bobby. Have my ice cream.\\nThank you! Now I am full. [...] Hi, children. How are you?\\n Hi, children. How are you?\\n I'm happy!   \\n I'm sad! \\n I'm angry!   \\n I'm hungry! \\n I'm happy!   \\n I'm sad! \\n I'm angry!   \\n I'm hungry! \\n\\n[All music by Alfred Henshaw-Hill, \\u00a9 Copyright Wormhole Learning, 2022] [...] hi judy how are you i am happy let's sing a song hi judy how are you hi judy how are you i am happy [Music] yes i am happy hi bobby how are you hi bobby how are you i am sad [Music] yes i am sad [Music] [Laughter] oh don't be sad bobby hi judy how are you hi judy how are you i am angry [Music] yes i am angry [Music] hi bobby how are you hi bobby how are you i am hungry [Music] yes i am hungry here bobby have my ice cream thank you now i am full hi children how are you hi children how are you\", \"score\": 0.6947383}, {\"title\": \"How To Answer the Question \\u201cHow Are You?\\u201d | Indeed.com\", \"url\": \"https://www.indeed.com/career-advice/career-development/how-are-you-response\", \"content\": \"How To Answer the Question \\u201cHow Are You?\\u201d \\u00b7 Good: \\u201cGood\\u201d is the most common answer to the question \\u201cHow are you?\\u201d It is polite and cheerful.\", \"score\": 0.694241}]\n",
      "Assistaant: \n",
      "Assistaant: [{\"title\": \"How Are You? | Emotions Song | Wormhole Learning - Songs For Kids\", \"url\": \"https://www.youtube.com/watch?v=O13gITUS5t4\", \"content\": \"Hi, Judy. How are you?\\n Hi, Judy. How are you?\\n I am happy!\\n Yes, I am happy!\\n \\n Hi, Bobby. How are you?\\n Hi, Bobby. How are you?\\n I am sad. \\n Yes, I am sad.\\n \\nOh, don't be sad, Bobby!\\n\\n Hi, Judy. How are you?\\n Hi, Judy. How are you?\\n I am angry! \\n Yes, I am angry!\\n \\nHumph!\\n\\n Hi, Bobby. How are you?\\n Hi, Bobby. How are you?\\n I am hungry! \\n Yes, I am hungry!\\n \\nHere, Bobby. Have my ice cream.\\nThank you! Now I am full. [...] Hi, children. How are you?\\n Hi, children. How are you?\\n I'm happy!   \\n I'm sad! \\n I'm angry!   \\n I'm hungry! \\n I'm happy!   \\n I'm sad! \\n I'm angry!   \\n I'm hungry! \\n\\n[All music by Alfred Henshaw-Hill, \\u00a9 Copyright Wormhole Learning, 2022] [...] hi judy how are you i am happy let's sing a song hi judy how are you hi judy how are you i am happy [Music] yes i am happy hi bobby how are you hi bobby how are you i am sad [Music] yes i am sad [Music] [Laughter] oh don't be sad bobby hi judy how are you hi judy how are you i am angry [Music] yes i am angry [Music] hi bobby how are you hi bobby how are you i am hungry [Music] yes i am hungry here bobby have my ice cream thank you now i am full hi children how are you hi children how are you\", \"score\": 0.6947383}, {\"title\": \"How To Answer the Question \\u201cHow Are You?\\u201d | Indeed.com\", \"url\": \"https://www.indeed.com/career-advice/career-development/how-are-you-response\", \"content\": \"How To Answer the Question \\u201cHow Are You?\\u201d \\u00b7 Good: \\u201cGood\\u201d is the most common answer to the question \\u201cHow are you?\\u201d It is polite and cheerful.\", \"score\": 0.694241}]\n",
      "Assistaant: I am doing well, thank you for asking. \n",
      "\n",
      "Goodbye!\n"
     ]
    }
   ],
   "source": [
    "def stream_graph_updates(user_input: str):\n",
    "    for event in graph.stream({'messages': [{\"role\": \"user\", \"content\":user_input}]}):\n",
    "        for value in event.values():\n",
    "            print(\"Assistaant:\", value[\"messages\"][-1].content)\n",
    "\n",
    "\n",
    "while True:\n",
    "    try:\n",
    "        user_input = input(\"User: \")\n",
    "        if user_input.lower() in ['quit', 'exit', 'q']:\n",
    "            print(\"Goodbye!\")\n",
    "            break\n",
    "        stream_graph_updates(user_input)\n",
    "    except:\n",
    "        # fallback if input() is not available\n",
    "        user_input = \"What do you know about Langgraph?\"\n",
    "        print(\"User: \" + user_input)\n",
    "        stream_graph_updates(user_input)\n",
    "        break"
   ]
  },
  {
   "cell_type": "code",
   "execution_count": null,
   "id": "a2241827",
   "metadata": {},
   "outputs": [],
   "source": []
  }
 ],
 "metadata": {
  "kernelspec": {
   "display_name": "falcon-env",
   "language": "python",
   "name": "python3"
  },
  "language_info": {
   "codemirror_mode": {
    "name": "ipython",
    "version": 3
   },
   "file_extension": ".py",
   "mimetype": "text/x-python",
   "name": "python",
   "nbconvert_exporter": "python",
   "pygments_lexer": "ipython3",
   "version": "3.9.6"
  }
 },
 "nbformat": 4,
 "nbformat_minor": 5
}
